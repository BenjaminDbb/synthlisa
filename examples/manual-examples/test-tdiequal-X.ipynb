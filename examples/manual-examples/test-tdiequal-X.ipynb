{
 "cells": [
  {
   "cell_type": "code",
   "execution_count": 1,
   "metadata": {
    "collapsed": false
   },
   "outputs": [],
   "source": [
    "from synthlisa import *"
   ]
  },
  {
   "cell_type": "code",
   "execution_count": 2,
   "metadata": {
    "collapsed": true
   },
   "outputs": [],
   "source": [
    "import math\n",
    "import numpy\n",
    "import matplotlib.pyplot as pp\n",
    "\n",
    "%matplotlib inline"
   ]
  },
  {
   "cell_type": "code",
   "execution_count": 3,
   "metadata": {
    "collapsed": false
   },
   "outputs": [],
   "source": [
    "L = 16.6782\n",
    "originallisa = OriginalLISA(L)"
   ]
  },
  {
   "cell_type": "code",
   "execution_count": 4,
   "metadata": {
    "collapsed": true
   },
   "outputs": [],
   "source": [
    "samples = 2**18 # 2**18 takes 11 s on a 1.25GHz\n",
    "stime = 1\n",
    "\n",
    "patches = 256"
   ]
  },
  {
   "cell_type": "code",
   "execution_count": 5,
   "metadata": {
    "collapsed": false
   },
   "outputs": [],
   "source": [
    "originalTDI = TDInoise(originallisa,\n",
    "                       1.0, 2.5e-48, # proof-mass noise parameters\n",
    "                       1.0, 1.8e-37, # optical-path noise parameters\n",
    "                       1.0, 1.1e-26) # laser frequency noise parameters"
   ]
  },
  {
   "cell_type": "code",
   "execution_count": 6,
   "metadata": {
    "collapsed": false
   },
   "outputs": [
    {
     "data": {
      "text/plain": [
       "-8.335901537298608e-20"
      ]
     },
     "execution_count": 6,
     "metadata": {},
     "output_type": "execute_result"
    }
   ],
   "source": [
    "originalTDI.Xm(0)"
   ]
  },
  {
   "cell_type": "code",
   "execution_count": 7,
   "metadata": {
    "collapsed": false
   },
   "outputs": [
    {
     "name": "stdout",
     "output_type": "stream",
     "text": [
      "...completed in 1 s [170286 (multi)samples/s].                           \n"
     ]
    }
   ],
   "source": [
    "noiseX = getobsc(samples,stime,originalTDI.Xm)"
   ]
  },
  {
   "cell_type": "code",
   "execution_count": 8,
   "metadata": {
    "collapsed": false
   },
   "outputs": [],
   "source": [
    "myspecX = spect(noiseX,stime,patches)"
   ]
  },
  {
   "cell_type": "code",
   "execution_count": 9,
   "metadata": {
    "collapsed": true
   },
   "outputs": [],
   "source": [
    "fmin = myspecX[1,0]\n",
    "fmax = myspecX[-1,0]"
   ]
  },
  {
   "cell_type": "code",
   "execution_count": 10,
   "metadata": {
    "collapsed": true
   },
   "outputs": [],
   "source": [
    "f = numpy.arange(fmin,fmax,(fmax-fmin)/999,'d')"
   ]
  },
  {
   "cell_type": "code",
   "execution_count": 11,
   "metadata": {
    "collapsed": false
   },
   "outputs": [],
   "source": [
    "Syproof = 2.5e-48 * f**-2\n",
    "Syopt = 1.8e-37 * f**2"
   ]
  },
  {
   "cell_type": "code",
   "execution_count": 12,
   "metadata": {
    "collapsed": false
   },
   "outputs": [],
   "source": [
    "theoryX = (8*numpy.sin(4*math.pi*f*L)**2 + 32*numpy.sin(2*math.pi*f*L)**2) * Syproof + \\\n",
    "          16*numpy.sin(2*math.pi*f*L)**2 * Syopt"
   ]
  },
  {
   "cell_type": "code",
   "execution_count": 13,
   "metadata": {
    "collapsed": false
   },
   "outputs": [
    {
     "data": {
      "text/plain": [
       "(513, 2)"
      ]
     },
     "execution_count": 13,
     "metadata": {},
     "output_type": "execute_result"
    }
   ],
   "source": [
    "myspecX.shape"
   ]
  },
  {
   "cell_type": "code",
   "execution_count": 14,
   "metadata": {
    "collapsed": false
   },
   "outputs": [
    {
     "data": {
      "text/plain": [
       "[<matplotlib.lines.Line2D at 0x110e7b0b8>]"
      ]
     },
     "execution_count": 14,
     "metadata": {},
     "output_type": "execute_result"
    },
    {
     "data": {
      "image/png": "[encoded data removed]",
      "text/plain": [
       "<matplotlib.figure.Figure at 0x10fbc22e8>"
      ]
     },
     "metadata": {},
     "output_type": "display_data"
    }
   ],
   "source": [
    "pp.loglog(myspecX[:,0],myspecX[:,1])\n",
    "pp.loglog(f,theoryX)"
   ]
  },
  {
   "cell_type": "markdown",
   "metadata": {},
   "source": [
    "There's still the issue of the renaming of TDInoise to _TDInoise so there's a factory. Perhaps handle it at the C++ level. "
   ]
  },
  {
   "cell_type": "markdown",
   "metadata": {},
   "source": [
    "Reproducing this script."
   ]
  },
  {
   "cell_type": "code",
   "execution_count": 3,
   "metadata": {
    "collapsed": false
   },
   "outputs": [
    {
     "name": "stdout",
     "output_type": "stream",
     "text": [
      "#!/usr/bin/env python\r\n",
      "\r\n",
      "# test of first-generation TDI X noise against the theoretical expression\r\n",
      "\r\n",
      "# this script demonstrates the generation of a TDI X time series, and\r\n",
      "# in particular:\r\n",
      "# - creating a LISA geometry object\r\n",
      "# - creating a TDInoise object based on standard pseudorandom noises\r\n",
      "# - calling getobs to get an array of X values at equispaced times\r\n",
      "# - getting the spectrum of the time series\r\n",
      "# - writing the spectrum to disk\r\n",
      "# - using some Python/numpy magic to create a theoretical X spectrum\r\n",
      "\r\n",
      "# import all the libraries that are needed\r\n",
      "\r\n",
      "from synthlisa import *\r\n",
      "\r\n",
      "# we create a LISA geometry object corresponding to a stationary LISA\r\n",
      "# with equal armlengths\r\n",
      "\r\n",
      "L = 16.6782\r\n",
      "originallisa = OriginalLISA(L)\r\n",
      "\r\n",
      "# we create a TDInoise object based on the LISA geometry object, and\r\n",
      "# on 18 (6+6+6) pseudorandom noise objects with standard parameters\r\n",
      "# (the exponents are implicitly -2.0, 2.0, and 0.0; the interpolation\r\n",
      "# windows are 1; the sampling time of the noise needs to be the same,\r\n",
      "# or lower than the sampling time of the final TDI time series, to\r\n",
      "# prevent aliasing)\r\n",
      "\r\n",
      "originalTDI = TDInoise(originallisa,\r\n",
      "                       1.0, 2.5e-48, # proof-mass noise parameters\r\n",
      "                       1.0, 1.8e-37, # optical-path noise parameters\r\n",
      "                       1.0, 1.1e-26) # laser frequency noise parameters\r\n",
      "\r\n",
      "# get \"samples\" values of the noise, at times separated by \"stime\"\r\n",
      "# note that X is a \"method\" of the TDInoise object\r\n",
      "\r\n",
      "samples = 2**18 # 2**18 takes 11 s on a 1.25GHz\r\n",
      "stime = 1\r\n",
      "\r\n",
      "patches = 256\r\n",
      "\r\n",
      "noiseX = getobsc(samples,stime,originalTDI.Xm)\r\n",
      "\r\n",
      "# the result is a 1D numpy array, that we feed to \"spect\" to get a\r\n",
      "# triangle-windowed, averaged spectrum, using \"patches\" averaging\r\n",
      "# periods\r\n",
      "\r\n",
      "myspecX = spect(noiseX,stime,patches)\r\n",
      "\r\n",
      "# ...and write the spectrum to disk\r\n",
      "\r\n",
      "writearray('data/tdiequal-X-sampled.txt',myspecX[1:])\r\n",
      "\r\n",
      "# now let's do the theoretical expression. we need pi...\r\n",
      "\r\n",
      "from math import pi\r\n",
      "\r\n",
      "# we get the minimum and maximum frequency from the first column of\r\n",
      "# the spectrum computed above to create the range of frequencies where\r\n",
      "# we're computing our theoretical spectrum (as an array index, -1 is\r\n",
      "# shorthand for the last element)\r\n",
      "\r\n",
      "fmin = myspecX[1,0]\r\n",
      "fmax = myspecX[-1,0]\r\n",
      "\r\n",
      "f = numpy.arange(fmin,fmax,(fmax-fmin)/999,'d')\r\n",
      "\r\n",
      "# theoretical expression from Estabrook, Tinto, and Armstrong,\r\n",
      "# Phys. Rev. D 62, 042002 (2000); just math follows\r\n",
      "\r\n",
      "Syproof = 2.5e-48 * f**-2\r\n",
      "Syopt = 1.8e-37 * f**2\r\n",
      "\r\n",
      "theoryX = ( 8*numpy.sin(4*pi*f*L)**2 + 32*numpy.sin(2*pi*f*L)**2 ) * Syproof + 16*numpy.sin(2*pi*f*L)**2 * Syopt\r\n",
      "\r\n",
      "# we want to write a 2-column file\r\n",
      "\r\n",
      "writearray('data/tdiequal-X-theory.txt',numpy.transpose([f, theoryX]))\r\n"
     ]
    }
   ],
   "source": [
    "!cat test-tdiequal-X.py"
   ]
  },
  {
   "cell_type": "code",
   "execution_count": null,
   "metadata": {
    "collapsed": true
   },
   "outputs": [],
   "source": []
  }
 ],
 "metadata": {
  "anaconda-cloud": {},
  "kernelspec": {
   "display_name": "Python [Root]",
   "language": "python",
   "name": "Python [Root]"
  },
  "language_info": {
   "codemirror_mode": {
    "name": "ipython",
    "version": 3
   },
   "file_extension": ".py",
   "mimetype": "text/x-python",
   "name": "python",
   "nbconvert_exporter": "python",
   "pygments_lexer": "ipython3",
   "version": "3.5.2"
  }
 },
 "nbformat": 4,
 "nbformat_minor": 0
}
