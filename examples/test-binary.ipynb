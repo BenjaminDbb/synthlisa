{
 "metadata": {
  "name": "test-binary"
 },
 "nbformat": 3,
 "nbformat_minor": 0,
 "worksheets": [
  {
   "cells": [
    {
     "cell_type": "code",
     "collapsed": false,
     "input": [
      "import synthlisa, math, numpy as N, matplotlib.pyplot as P"
     ],
     "language": "python",
     "metadata": {},
     "outputs": [],
     "prompt_number": 1
    },
    {
     "cell_type": "code",
     "collapsed": false,
     "input": [
      "lisa = synthlisa.EccentricInclined()"
     ],
     "language": "python",
     "metadata": {},
     "outputs": [],
     "prompt_number": 2
    },
    {
     "cell_type": "code",
     "collapsed": false,
     "input": [
      "2**math.ceil(math.log(365.25 * 24 * 3600 / 10,2)) * 5e-3"
     ],
     "language": "python",
     "metadata": {},
     "outputs": [
      {
       "output_type": "pyout",
       "prompt_number": 3,
       "text": [
        "20971.52"
       ]
      }
     ],
     "prompt_number": 3
    },
    {
     "cell_type": "code",
     "collapsed": false,
     "input": [
      "def getgwb(db,dl,de):\n",
      "    gwb = synthlisa.GalacticBinary(1e-2,0,0.25*math.pi+db,0.6*math.pi+dl,1,0,0,0,0,de)\n",
      "    tdi = synthlisa.TDIsignal(lisa,gwb)\n",
      "    return synthlisa.getobs(2**22,10,tdi.Xm)"
     ],
     "language": "python",
     "metadata": {},
     "outputs": [],
     "prompt_number": 4
    },
    {
     "cell_type": "code",
     "collapsed": false,
     "input": [
      "base = getgwb(0,0,0)"
     ],
     "language": "python",
     "metadata": {},
     "outputs": [],
     "prompt_number": 10
    },
    {
     "cell_type": "code",
     "collapsed": false,
     "input": [
      "de = 1e-3\n",
      "eplus, eminus = getgwb(0,0,de), getgwb(0,0,-de) "
     ],
     "language": "python",
     "metadata": {},
     "outputs": [],
     "prompt_number": 5
    },
    {
     "cell_type": "code",
     "collapsed": false,
     "input": [
      "da = 1e-3\n",
      "bplus, bminus = getgwb(da,0,0), getgwb(-da,0,0)\n",
      "lplus, lminus = getgwb(0,da,0), getgwb(0,-da,0)"
     ],
     "language": "python",
     "metadata": {},
     "outputs": [],
     "prompt_number": 7
    },
    {
     "cell_type": "code",
     "collapsed": false,
     "input": [
      "def norm(x):\n",
      "    return math.sqrt(N.dot(x,x))"
     ],
     "language": "python",
     "metadata": {},
     "outputs": [],
     "prompt_number": 8
    },
    {
     "cell_type": "code",
     "collapsed": false,
     "input": [
      "snr = 100\n",
      "n = snr / norm(base)"
     ],
     "language": "python",
     "metadata": {},
     "outputs": [],
     "prompt_number": 11
    },
    {
     "cell_type": "code",
     "collapsed": false,
     "input": [
      "def fisher_errs(vec):\n",
      "    l = len(vec)\n",
      "    res = N.zeros((l,l),'d')\n",
      "    \n",
      "    for i in range(l):\n",
      "        for j in range(l):\n",
      "            res[i,j] = N.dot(vec[i],vec[j])\n",
      "    \n",
      "    return N.sqrt(N.diag(N.linalg.inv(res)))"
     ],
     "language": "python",
     "metadata": {},
     "outputs": [],
     "prompt_number": 15
    },
    {
     "cell_type": "code",
     "collapsed": false,
     "input": [
      "e_deriv = n * (eplus - eminus) / (2 * de)\n",
      "\n",
      "b_deriv = n * (bplus - bminus) / (2 * da)\n",
      "l_deriv = n * (lplus - lminus) / (2 * da)"
     ],
     "language": "python",
     "metadata": {},
     "outputs": [],
     "prompt_number": 13
    },
    {
     "cell_type": "code",
     "collapsed": false,
     "input": [
      "fisher_errs([e_deriv])"
     ],
     "language": "python",
     "metadata": {},
     "outputs": [
      {
       "output_type": "pyout",
       "prompt_number": 16,
       "text": [
        "array([ 0.0005861])"
       ]
      }
     ],
     "prompt_number": 16
    },
    {
     "cell_type": "code",
     "collapsed": false,
     "input": [
      "fisher_errs([e_deriv,b_deriv,l_deriv])"
     ],
     "language": "python",
     "metadata": {},
     "outputs": [
      {
       "output_type": "pyout",
       "prompt_number": 17,
       "text": [
        "array([ 0.00836708,  0.00817981,  0.00078599])"
       ]
      }
     ],
     "prompt_number": 17
    },
    {
     "cell_type": "code",
     "collapsed": false,
     "input": [],
     "language": "python",
     "metadata": {},
     "outputs": []
    }
   ],
   "metadata": {}
  }
 ]
}